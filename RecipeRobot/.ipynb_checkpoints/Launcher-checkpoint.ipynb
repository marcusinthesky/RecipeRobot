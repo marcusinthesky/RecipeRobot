{
 "cells": [
  {
   "cell_type": "code",
   "execution_count": null,
   "metadata": {},
   "outputs": [
    {
     "name": "stdout",
     "output_type": "stream",
     "text": [
      "2019-04-30 16:53:48,603 Starting Bokeh server version 1.1.0 (running on Tornado 6.0.2)\n",
      "2019-04-30 16:53:48,607 Bokeh app running at: http://localhost:5009/Dashboard\n",
      "2019-04-30 16:53:48,607 Starting Bokeh server with process id: 29201\n",
      "2019-04-30 16:53:50,161 'pattern' package not found; tag filters are not available for English\n",
      "2019-04-30 16:53:50,163 loading Word2VecKeyedVectors object from ./Data/wordvectors.kv\n",
      "2019-04-30 16:53:50,175 setting ignored attribute vectors_norm to None\n",
      "2019-04-30 16:53:50,175 loaded ./Data/wordvectors.kv\n",
      "2019-04-30 16:53:50,282 precomputing L2-norms of word weight vectors\n",
      "2019-04-30 16:53:50,409 200 GET /Dashboard (::1) 1313.32ms\n",
      "2019-04-30 16:53:50,916 101 GET /Dashboard/ws?bokeh-protocol-version=1.0&bokeh-session-id=NMlBmCNK5ZcY4GMCTcMEp6I00xYQH7bNe5OaN0BKHaiX (::1) 0.87ms\n",
      "2019-04-30 16:53:50,917 WebSocket connection opened\n",
      "2019-04-30 16:53:50,917 ServerConnection created\n"
     ]
    }
   ],
   "source": [
    "! bokeh serve --show --port 5009 Dashboard.ipynb"
   ]
  },
  {
   "cell_type": "code",
   "execution_count": null,
   "metadata": {},
   "outputs": [],
   "source": []
  }
 ],
 "metadata": {
  "kernelspec": {
   "display_name": "Python 3",
   "language": "python",
   "name": "python3"
  },
  "language_info": {
   "codemirror_mode": {
    "name": "ipython",
    "version": 3
   },
   "file_extension": ".py",
   "mimetype": "text/x-python",
   "name": "python",
   "nbconvert_exporter": "python",
   "pygments_lexer": "ipython3",
   "version": "3.7.3"
  }
 },
 "nbformat": 4,
 "nbformat_minor": 2
}
