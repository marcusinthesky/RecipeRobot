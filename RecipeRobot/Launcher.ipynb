{
 "cells": [
  {
   "cell_type": "code",
   "execution_count": null,
   "metadata": {},
   "outputs": [
    {
     "name": "stdout",
     "output_type": "stream",
     "text": [
      "2019-04-30 18:20:51,203 Starting Bokeh server version 1.1.0 (running on Tornado 6.0.2)\n",
      "2019-04-30 18:20:51,207 Bokeh app running at: http://localhost:5009/Dashboard\n",
      "2019-04-30 18:20:51,207 Starting Bokeh server with process id: 2533\n",
      "2019-04-30 18:20:52,717 'pattern' package not found; tag filters are not available for English\n",
      "2019-04-30 18:20:52,720 loading Word2VecKeyedVectors object from ./Data/wordvectors.kv\n",
      "2019-04-30 18:20:52,723 setting ignored attribute vectors_norm to None\n",
      "2019-04-30 18:20:52,723 loaded ./Data/wordvectors.kv\n",
      "2019-04-30 18:20:52,816 precomputing L2-norms of word weight vectors\n",
      "2019-04-30 18:20:52,914 200 GET /Dashboard (::1) 1218.23ms\n",
      "2019-04-30 18:20:53,443 101 GET /Dashboard/ws?bokeh-protocol-version=1.0&bokeh-session-id=UeghX5CUANwcp2uRQihfswRYhcAGVr3FQGR322tza0SL (::1) 1.39ms\n",
      "2019-04-30 18:20:53,443 WebSocket connection opened\n",
      "2019-04-30 18:20:53,443 ServerConnection created\n",
      "2019-04-30 19:02:32,735 loading Word2VecKeyedVectors object from ./Data/wordvectors.kv\n",
      "2019-04-30 19:02:32,749 setting ignored attribute vectors_norm to None\n",
      "2019-04-30 19:02:32,749 loaded ./Data/wordvectors.kv\n",
      "2019-04-30 19:02:32,755 precomputing L2-norms of word weight vectors\n",
      "2019-04-30 19:02:32,823 200 GET /Dashboard (::1) 112.43ms\n",
      "2019-04-30 19:02:33,368 101 GET /Dashboard/ws?bokeh-protocol-version=1.0&bokeh-session-id=D0MUkShwkFjHwLEILtVLeIqTIClpUofraCq7G5KWZx62 (::1) 0.65ms\n",
      "2019-04-30 19:02:33,369 WebSocket connection opened\n",
      "2019-04-30 19:02:33,369 ServerConnection created\n"
     ]
    }
   ],
   "source": [
    "! bokeh serve --show --port 5009 Dashboard.ipynb"
   ]
  },
  {
   "cell_type": "code",
   "execution_count": null,
   "metadata": {},
   "outputs": [],
   "source": []
  }
 ],
 "metadata": {
  "kernelspec": {
   "display_name": "Python 3",
   "language": "python",
   "name": "python3"
  },
  "language_info": {
   "codemirror_mode": {
    "name": "ipython",
    "version": 3
   },
   "file_extension": ".py",
   "mimetype": "text/x-python",
   "name": "python",
   "nbconvert_exporter": "python",
   "pygments_lexer": "ipython3",
   "version": "3.7.3"
  }
 },
 "nbformat": 4,
 "nbformat_minor": 2
}
